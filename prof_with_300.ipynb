{
 "cells": [
  {
   "cell_type": "code",
   "execution_count": 1,
   "metadata": {
    "collapsed": false
   },
   "outputs": [],
   "source": [
    "import pandas as pd\n",
    "import sklearn\n",
    "import numpy as np\n",
    "from sklearn import datasets, linear_model\n",
    "import matplotlib.pyplot as plt"
   ]
  },
  {
   "cell_type": "code",
   "execution_count": 2,
   "metadata": {
    "collapsed": false
   },
   "outputs": [],
   "source": [
    "dataset= pd.read_csv('C:\\Users\\Admin\\Downloads\\survey_deleted00.csv')"
   ]
  },
  {
   "cell_type": "code",
   "execution_count": 3,
   "metadata": {
    "collapsed": false
   },
   "outputs": [
    {
     "data": {
      "text/plain": [
       "(713, 17)"
      ]
     },
     "execution_count": 3,
     "metadata": {},
     "output_type": "execute_result"
    }
   ],
   "source": [
    "dataset.shape"
   ]
  },
  {
   "cell_type": "code",
   "execution_count": 4,
   "metadata": {
    "collapsed": false
   },
   "outputs": [],
   "source": [
    "dataset= dataset.rename(columns={'Timestamp':'timestamp',\n",
    "                            'When something good happens to me, I have people who I like to share the good news with.\t':'Q1',\n",
    "                            'I finish whatever I begin.\t':'Q2',\n",
    "                           'When I do an\tactivity, I\tenjoy it so much that I\tlose track of time.\t':'Q3',\n",
    "                           'I get completely absorbed\tin what I\tam doing.\t':'Q4',\n",
    "                           'I am optimistic about my future\t':'Q5',\n",
    "                           'I keep at\tmy collegework until I\tam\tdone with it.\t':'Q6',\n",
    "                           'When I have a problem, I have someone\twho will be there for me.\t':'Q7',\n",
    "                           'In uncertain times, I expect the\tbest.\t':'Q8',\n",
    "                           'There are people in my life\twho really care about me.\t':'Q9',\n",
    "                           'I think good things are going to\thappen to me.\t':'Q10',\n",
    "                           'I have friends that I really care about.\t':'Q11',\n",
    "                           'Once I make a plan to\tget something done, I stick to it.':'Q12',\n",
    "                           'I believe\tthat\tthings will work out, no matter how difficult they seem.':'Q13',\n",
    "                           'I work hard.\t':'Q14',\n",
    "                           'I have a lot of fun':'Q15',\n",
    "                           'From the below categories which one do you identify with the most':'label'})"
   ]
  },
  {
   "cell_type": "code",
   "execution_count": 5,
   "metadata": {
    "collapsed": false
   },
   "outputs": [
    {
     "data": {
      "text/html": [
       "<div>\n",
       "<table border=\"1\" class=\"dataframe\">\n",
       "  <thead>\n",
       "    <tr style=\"text-align: right;\">\n",
       "      <th></th>\n",
       "      <th>timestamp</th>\n",
       "      <th>Q1</th>\n",
       "      <th>Q2</th>\n",
       "      <th>Q3</th>\n",
       "      <th>Q4</th>\n",
       "      <th>Q5</th>\n",
       "      <th>Q6</th>\n",
       "      <th>Q7</th>\n",
       "      <th>Q8</th>\n",
       "      <th>Q9</th>\n",
       "      <th>Q10</th>\n",
       "      <th>Q11</th>\n",
       "      <th>Q12</th>\n",
       "      <th>Q13</th>\n",
       "      <th>Q14</th>\n",
       "      <th>Q15</th>\n",
       "      <th>label</th>\n",
       "    </tr>\n",
       "  </thead>\n",
       "  <tbody>\n",
       "    <tr>\n",
       "      <th>0</th>\n",
       "      <td>2017/01/30 11:01:20 AM GMT+5:30</td>\n",
       "      <td>Very Often</td>\n",
       "      <td>Sometimes</td>\n",
       "      <td>Almost never</td>\n",
       "      <td>Almost never</td>\n",
       "      <td>Almost never</td>\n",
       "      <td>Very Often</td>\n",
       "      <td>Almost always</td>\n",
       "      <td>Almost never</td>\n",
       "      <td>Almost always</td>\n",
       "      <td>Almost never</td>\n",
       "      <td>Very Often</td>\n",
       "      <td>Sometimes</td>\n",
       "      <td>Almost never</td>\n",
       "      <td>Almost always</td>\n",
       "      <td>Often</td>\n",
       "      <td>Mentally distressed</td>\n",
       "    </tr>\n",
       "  </tbody>\n",
       "</table>\n",
       "</div>"
      ],
      "text/plain": [
       "                         timestamp          Q1         Q2            Q3  \\\n",
       "0  2017/01/30 11:01:20 AM GMT+5:30  Very Often  Sometimes  Almost never   \n",
       "\n",
       "             Q4            Q5          Q6             Q7            Q8  \\\n",
       "0  Almost never  Almost never  Very Often  Almost always  Almost never   \n",
       "\n",
       "              Q9           Q10         Q11        Q12           Q13  \\\n",
       "0  Almost always  Almost never  Very Often  Sometimes  Almost never   \n",
       "\n",
       "             Q14    Q15                label  \n",
       "0  Almost always  Often  Mentally distressed  "
      ]
     },
     "execution_count": 5,
     "metadata": {},
     "output_type": "execute_result"
    }
   ],
   "source": [
    "dataset[:1]"
   ]
  },
  {
   "cell_type": "code",
   "execution_count": 6,
   "metadata": {
    "collapsed": true
   },
   "outputs": [],
   "source": [
    "dataset=dataset.drop('timestamp', axis=1)"
   ]
  },
  {
   "cell_type": "code",
   "execution_count": 7,
   "metadata": {
    "collapsed": true
   },
   "outputs": [],
   "source": [
    "dataset.label[dataset.label==\"Mentally distressed\"] = 0\n",
    "dataset.label[dataset.label==\"unaffected with life (neutral)\"] = 1\n",
    "dataset.label[dataset.label==\"Optimistic and happy with life\"] = 2"
   ]
  },
  {
   "cell_type": "code",
   "execution_count": 8,
   "metadata": {
    "collapsed": true
   },
   "outputs": [],
   "source": [
    "dataset[dataset=='Almost always'] = 2\n",
    "dataset[dataset=='Very Often'] = 1\n",
    "dataset[dataset=='Often'] = 0\n",
    "dataset[dataset=='Sometimes'] = -1\n",
    "dataset[dataset=='Almost never'] = -2\n"
   ]
  },
  {
   "cell_type": "code",
   "execution_count": 9,
   "metadata": {
    "collapsed": true
   },
   "outputs": [],
   "source": [
    "dataset = dataset.astype(int)"
   ]
  },
  {
   "cell_type": "code",
   "execution_count": 10,
   "metadata": {
    "collapsed": false
   },
   "outputs": [],
   "source": [
    "\n",
    "Y = np.array(dataset.label)\n",
    "X = np.array(dataset.drop('label',axis=1))"
   ]
  },
  {
   "cell_type": "code",
   "execution_count": 11,
   "metadata": {
    "collapsed": false
   },
   "outputs": [],
   "source": [
    "from sklearn.model_selection import train_test_split\n",
    "train_x, validation_x, train_y, validation_y = train_test_split(X, Y, test_size=0.2, random_state= 0)"
   ]
  },
  {
   "cell_type": "code",
   "execution_count": null,
   "metadata": {
    "collapsed": true
   },
   "outputs": [],
   "source": []
  },
  {
   "cell_type": "code",
   "execution_count": 12,
   "metadata": {
    "collapsed": false
   },
   "outputs": [
    {
     "data": {
      "text/plain": [
       "LogisticRegression(C=1.0, class_weight=None, dual=False, fit_intercept=True,\n",
       "          intercept_scaling=1, max_iter=100, multi_class='ovr', n_jobs=1,\n",
       "          penalty='l2', random_state=None, solver='liblinear', tol=0.0001,\n",
       "          verbose=0, warm_start=False)"
      ]
     },
     "execution_count": 12,
     "metadata": {},
     "output_type": "execute_result"
    }
   ],
   "source": [
    "from sklearn import linear_model\n",
    "logistic = linear_model.LogisticRegression()\n",
    "logistic.fit(train_x, train_y)"
   ]
  },
  {
   "cell_type": "code",
   "execution_count": 13,
   "metadata": {
    "collapsed": false
   },
   "outputs": [
    {
     "data": {
      "text/plain": [
       "0.80419580419580416"
      ]
     },
     "execution_count": 13,
     "metadata": {},
     "output_type": "execute_result"
    }
   ],
   "source": [
    "output_logistic = logistic.predict(validation_x)\n",
    "np.mean(output_logistic == validation_y)  "
   ]
  },
  {
   "cell_type": "code",
   "execution_count": 14,
   "metadata": {
    "collapsed": false
   },
   "outputs": [
    {
     "data": {
      "text/plain": [
       "0.72027972027972031"
      ]
     },
     "execution_count": 14,
     "metadata": {},
     "output_type": "execute_result"
    }
   ],
   "source": [
    "from sklearn.naive_bayes import BernoulliNB\n",
    "\n",
    "clf = BernoulliNB()\n",
    "clf.fit(train_x, train_y)\n",
    "BernoulliNB(alpha=1.0, binarize=0.0, class_prior=None, fit_prior=True)\n",
    "output_ber = clf.predict(validation_x)\n",
    "np.mean(output_ber == validation_y) "
   ]
  },
  {
   "cell_type": "code",
   "execution_count": 15,
   "metadata": {
    "collapsed": false
   },
   "outputs": [
    {
     "data": {
      "text/plain": [
       "0.87412587412587417"
      ]
     },
     "execution_count": 15,
     "metadata": {},
     "output_type": "execute_result"
    }
   ],
   "source": [
    "from sklearn.svm import SVC\n",
    "svm = SVC(probability=True)\n",
    "svm.fit(train_x, train_y)\n",
    "output_svm = svm.predict(validation_x)\n",
    "np.mean(output_svm == validation_y)"
   ]
  },
  {
   "cell_type": "code",
   "execution_count": 16,
   "metadata": {
    "collapsed": false
   },
   "outputs": [
    {
     "data": {
      "text/plain": [
       "0.87412587412587417"
      ]
     },
     "execution_count": 16,
     "metadata": {},
     "output_type": "execute_result"
    }
   ],
   "source": [
    "from sklearn.ensemble import RandomForestClassifier\n",
    "rf = RandomForestClassifier(n_estimators = 200, oob_score = True, n_jobs = -1,random_state =50,max_features = \"auto\",min_samples_leaf = 2)\n",
    "rf.fit(train_x,train_y) \n",
    "output_rf = rf.predict(validation_x)\n",
    "np.mean(output_rf == validation_y)"
   ]
  },
  {
   "cell_type": "code",
   "execution_count": 17,
   "metadata": {
    "collapsed": false
   },
   "outputs": [
    {
     "data": {
      "text/plain": [
       "0.78321678321678323"
      ]
     },
     "execution_count": 17,
     "metadata": {},
     "output_type": "execute_result"
    }
   ],
   "source": [
    "from sklearn.ensemble import AdaBoostClassifier\n",
    "ab = AdaBoostClassifier()\n",
    "ab.fit(train_x,train_y)\n",
    "output_ab = ab.predict(validation_x)\n",
    "np.mean(output_ab == validation_y)\n"
   ]
  },
  {
   "cell_type": "code",
   "execution_count": 23,
   "metadata": {
    "collapsed": false
   },
   "outputs": [
    {
     "data": {
      "text/plain": [
       "0.37062937062937062"
      ]
     },
     "execution_count": 23,
     "metadata": {},
     "output_type": "execute_result"
    }
   ],
   "source": [
    "output_ensemble = []   #ensemble\n",
    "for i in range(0,len(validation_y)):\n",
    "    count_0 = 0\n",
    "    count_1 = 0\n",
    "    count_2 = 0\n",
    "    if(output_logistic[i] == '0'): \n",
    "        count_0 +=1\n",
    "    elif(output_logistic[i] == '1'):\n",
    "        count_1 +=1\n",
    "    elif(output_logistic[i] == '2'):\n",
    "        count_2 +=1\n",
    "    if(output_svm[i] == '0'): \n",
    "        count_0 +=1\n",
    "    elif(output_svm[i] == '1'):\n",
    "        count_1 +=1\n",
    "    elif(output_svm[i] == '2'):\n",
    "        count_2 +=1 \n",
    "   \n",
    "    \n",
    "    if(count_0 >= count_1 and count_0 >= count_2): \n",
    "        output_ensemble.append(0)\n",
    "    elif(count_1 >= count_0 and count_1 >= count_2): \n",
    "        output_ensemble.append(1)\n",
    "    elif(count_2 >= count_0 and count_2 >= count_1): \n",
    "        output_ensemble.append(2)\n",
    "output = np.asarray(output_ensemble)\n",
    "np.mean(output == validation_y)\n",
    "    \n",
    "    \n",
    "    "
   ]
  },
  {
   "cell_type": "code",
   "execution_count": 19,
   "metadata": {
    "collapsed": true
   },
   "outputs": [],
   "source": [
    "class Config:\n",
    "    nn_input_dim = 2\n",
    "    nn_output_dim = 2\n",
    "    epsilon = 0.01\n",
    "    reg_lambda = 0.01"
   ]
  },
  {
   "cell_type": "code",
   "execution_count": 20,
   "metadata": {
    "collapsed": true
   },
   "outputs": [],
   "source": [
    "def generate_data():\n",
    "    np.random.seed(0)\n",
    "    X, y = datasets.make_moons(200,noise = 0.20)\n",
    "    return X ,y"
   ]
  },
  {
   "cell_type": "code",
   "execution_count": null,
   "metadata": {
    "collapsed": true
   },
   "outputs": [],
   "source": []
  },
  {
   "cell_type": "code",
   "execution_count": null,
   "metadata": {
    "collapsed": true
   },
   "outputs": [],
   "source": []
  },
  {
   "cell_type": "code",
   "execution_count": 21,
   "metadata": {
    "collapsed": true
   },
   "outputs": [],
   "source": [
    "from sklearn.metrics import precision_recall_fscore_support"
   ]
  },
  {
   "cell_type": "code",
   "execution_count": 22,
   "metadata": {
    "collapsed": false
   },
   "outputs": [
    {
     "data": {
      "text/plain": [
       "(array([ 0.96      ,  0.83636364,  0.81578947]),\n",
       " array([ 0.90566038,  0.90196078,  0.79487179]),\n",
       " array([ 0.93203883,  0.86792453,  0.80519481]),\n",
       " array([53, 51, 39], dtype=int64))"
      ]
     },
     "execution_count": 22,
     "metadata": {},
     "output_type": "execute_result"
    }
   ],
   "source": [
    "precision_recall_fscore_support(validation_y,output_rf)"
   ]
  },
  {
   "cell_type": "code",
   "execution_count": null,
   "metadata": {
    "collapsed": true
   },
   "outputs": [],
   "source": []
  }
 ],
 "metadata": {
  "kernelspec": {
   "display_name": "Python 2",
   "language": "python",
   "name": "python2"
  },
  "language_info": {
   "codemirror_mode": {
    "name": "ipython",
    "version": 2
   },
   "file_extension": ".py",
   "mimetype": "text/x-python",
   "name": "python",
   "nbconvert_exporter": "python",
   "pygments_lexer": "ipython2",
   "version": "2.7.11"
  }
 },
 "nbformat": 4,
 "nbformat_minor": 0
}
